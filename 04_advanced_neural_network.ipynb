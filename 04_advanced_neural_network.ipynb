{
 "cells": [
  {
   "cell_type": "markdown",
   "metadata": {},
   "source": [
    "# Sequences Time Series and Prediction"
   ]
  },
  {
   "cell_type": "markdown",
   "metadata": {},
   "source": [
    "Time Series Examples\n",
    "- Stock Prices\n",
    "- Wheather Forecast"
   ]
  },
  {
   "cell_type": "markdown",
   "metadata": {},
   "source": [
    "> *Definition*: Time Series \n",
    "> \n",
    "> It is an ordened sequence of values that are usually equally spaced over time (daily, monthly, quaterly, yearly, and so on)"
   ]
  },
  {
   "cell_type": "markdown",
   "metadata": {},
   "source": [
    "The value of time series is when we find correlation between of them (no spurious relation). To find the relationship between time series those we can plot them\n",
    "- $(t, x_{1t})$ and $(t, x_{2t})$\n",
    "- $(x_{1t},  x_{2t})$"
   ]
  },
  {
   "cell_type": "markdown",
   "metadata": {},
   "source": [
    "### *Tasks* using time series\n",
    "- `Forecast` for next 10 periods\n",
    "- Project back into the past or fill null values in a long time series (if no exists). This called `Data Inputation`)\n",
    "- `Annomaly Detection`"
   ]
  },
  {
   "cell_type": "markdown",
   "metadata": {},
   "source": [
    "### Common pattern in time series\n",
    "\n",
    "- Trend (direction of time series)\n",
    "- Seasonality (frequence in which happen specific spike or shrink)\n",
    "- Combination of them\n",
    "- White Noise (is not possible to predict)\n",
    "- Autocorrelation (the current value is relationated to lag value)"
   ]
  },
  {
   "cell_type": "code",
   "execution_count": 1,
   "metadata": {},
   "outputs": [
    {
     "name": "stdout",
     "output_type": "stream",
     "text": [
      "20\n"
     ]
    }
   ],
   "source": []
  },
  {
   "cell_type": "code",
   "execution_count": 1,
   "metadata": {},
   "outputs": [],
   "source": [
    "import pandas as pd\n",
    "import numpy as np\n",
    "import matplotlib.pyplot as plt\n",
    "%matplotlib inline"
   ]
  },
  {
   "cell_type": "markdown",
   "metadata": {},
   "source": [
    "#### Train, Validation and Test Sets\n",
    "\n",
    "To measure the performance of a model is usually split the data into (Fixed partition): \n",
    "\n",
    "If the data contains seasonly pattern, then the training, valitation and test data must contains whole seasonly pattern, montly, yearly, ... \n",
    "\n",
    "- Training set: using to train the model\n",
    "- Validation set: used to measure the performance of the model in the training set and find the right architecture (hyperparameters)\n",
    "- Test set: used to measure the performance of the model when forecast\n",
    "\n",
    "For purpose of predict we often use all data, since test data and validation data is the closest data to current time, it contains current information.\n",
    "\n",
    "- We can concat [Training set, Validation Set] and training the model using this set.\n",
    "- The percent of each set is not defined, but, usually, (0.8, 0.1, 0.1)\n",
    "\n",
    "Exists (Roll Forward Partition) in which instead of using all training set to train the model, we use 0.7 for the first training, using 0.7 + 1m (frequency of the time series) for second training and so on."
   ]
  },
  {
   "cell_type": "markdown",
   "metadata": {},
   "source": [
    "### Metrics\n",
    "\n",
    "$$\\text{error} = \\hat{y} - y$$\n",
    "- MSE `Mean Square Error` : $\\text{avg}(\\text{error}^{2})$\n",
    "- RMSE `Root Mean Square Error` : $\\sqrt{ \\text{avg}(\\text{error}^{2})}$\n",
    "  - Return to original scale of the error \n",
    "- MAE `Mean Absolute Error` : $ \\text{avg}(|\\text{error}|)$\n",
    "   - Not penalize large error like `MSE`\n",
    "- MAPE `Mean Absolute Percent Error` : $ \\text{avg}(|\\frac{\\text{error}}{y}|)$\n",
    "\n",
    "> RMSE vs MAE\n",
    "> \n",
    "> If aditional error (marginal error) involves more cost than earlier then we should use `RMSE`.\n",
    "> But if the cost aditional error is equal to earlier we should use `MAE`"
   ]
  },
  {
   "cell_type": "markdown",
   "metadata": {},
   "source": [
    "### Moving Average\n",
    "\n",
    "Common Simple Forecasting Method: average of last 30 days (Windows) for example (if the frequency is daily). If we use this method on time serie it will drop the noise of the values but not anticipate tred or seasonality. \n",
    "\n",
    "To add this behaivor to prediction we can take the difference $d_{t}$ ($[y_{t}-y_{t-12}]$ or $[y_{t}-y_{t-6}]$, ...) of the time series in order eliminate the trend and seasonality.\n",
    "\n",
    "We can compute the average of this difference $d_{t}$,  $  \\hat{d}_{t+1}=\\text{avg}(d_{t})$ for last 30 days and add $y_{t-11}$ to compute the forecast. \n",
    "$$\\hat{y}_{t+1} = \\hat{d}_{t+1} + y_{t-11}$$\n",
    "\n",
    "But it contains noise, this come from $y_{t-11}$ so we can eliminate using moving average on $y_{t-11}$. \n",
    "$$\\hat{y}_{t+1} = \\hat{d}_{t+1} + \\text{avg}(y_{t-11})$$\n"
   ]
  },
  {
   "cell_type": "markdown",
   "metadata": {},
   "source": [
    "Trailling Moving Average on $x_t$ to predict $\\hat{x}_{t+1}$ for a windows $w=10$:  \n",
    "\n",
    "$$\\hat{x_t} = \\sum_{i=t-9}^{t} x_i$$\n",
    "\n",
    "Centered Moving Average on $x_t$ to predict $\\hat{x}_{t-5}$ for a windows $w=11$:  \n",
    "\n",
    "$$\\hat{x}_{t-5} = \\sum_{i=t-10}^{t} x_i$$\n",
    "\n",
    "Centered Moving Average is usually has better performance (less error) than Trailling Moving Average.\n",
    "\n",
    "It can used when calculate the moving average on $y_{t-11}$ but not to calculate moving average on $d_t$.\n",
    "\n",
    "On $d_t$ we should use Trailling Moving Average "
   ]
  },
  {
   "cell_type": "markdown",
   "metadata": {},
   "source": [
    "> *Spectral Representation*: says that any stationary process up to order two (covariance stationary or weakly stationary) can be represented by a possibly infinite sum of sinusoidal and cosine signals"
   ]
  },
  {
   "cell_type": "code",
   "execution_count": 17,
   "metadata": {},
   "outputs": [],
   "source": [
    "import pandas as pd\n",
    "import numpy as np\n",
    "import matplotlib.pyplot as plt\n",
    "from sqlalchemy import create_engine\n",
    "import torch\n",
    "import torch.utils.data as data\n",
    "import os\n",
    "%matplotlib inline"
   ]
  },
  {
   "cell_type": "code",
   "execution_count": 5,
   "metadata": {},
   "outputs": [],
   "source": [
    "uri = 'mysql://root:My:S3cr3t@127.0.0.1:30306/Programacion'\n",
    "con = create_engine(uri)"
   ]
  },
  {
   "cell_type": "code",
   "execution_count": 19,
   "metadata": {},
   "outputs": [],
   "source": [
    "data = pd.read_sql_query(\n",
    "    \"\"\"\n",
    "    SELECT periodo, SUM(cant_matriculados) as total\n",
    "    FROM ProgAcad WHERE sede <> \"VECOR\" AND estado <> \"Cur. Cancelado\" AND \n",
    "    (NOT REGEXP_LIKE(codigo_de_curso, \".+PV\")) \n",
    "    GROUP BY periodo;\"\"\", con=con\n",
    "    )"
   ]
  },
  {
   "cell_type": "code",
   "execution_count": 22,
   "metadata": {},
   "outputs": [
    {
     "data": {
      "text/plain": [
       "0     57040.0\n",
       "1     60409.0\n",
       "2     65231.0\n",
       "3     61466.0\n",
       "4     63111.0\n",
       "5     62021.0\n",
       "6     63238.0\n",
       "7     61637.0\n",
       "8     65488.0\n",
       "9     59408.0\n",
       "10    60460.0\n",
       "11    50843.0\n",
       "12    60702.0\n",
       "13    60912.0\n",
       "14    59440.0\n",
       "15    56519.0\n",
       "16    55052.0\n",
       "17    52433.0\n",
       "18    51941.0\n",
       "19    52025.0\n",
       "20    55163.0\n",
       "21    49613.0\n",
       "22    48744.0\n",
       "23    41489.0\n",
       "24    63573.0\n",
       "25    60698.0\n",
       "26    60847.0\n",
       "27    55880.0\n",
       "28    59133.0\n",
       "29    56598.0\n",
       "30    56008.0\n",
       "31    54800.0\n",
       "32    59356.0\n",
       "33    52604.0\n",
       "34    52836.0\n",
       "35    45433.0\n",
       "36    65318.0\n",
       "37    61425.0\n",
       "38    60644.0\n",
       "39    57675.0\n",
       "40    57241.0\n",
       "41       56.0\n",
       "Name: total, dtype: float64"
      ]
     },
     "execution_count": 22,
     "metadata": {},
     "output_type": "execute_result"
    }
   ],
   "source": [
    "data.total"
   ]
  },
  {
   "cell_type": "code",
   "execution_count": null,
   "metadata": {},
   "outputs": [],
   "source": [
    "class TimeSeriesDataSet(data.Dataset):\n",
    "\n",
    "    def __init__(self, tensor_dir, transform, window_size, stride):\n",
    "\n",
    "        self.tensor_directory = tensor_dir\n",
    "        self.transform = transform\n",
    "        self.files = os.listdir(tensor_dir)\n",
    "        self.window_size = window_size\n",
    "        self.stride = stride\n",
    "        self.data_tuples = []\n",
    "\n",
    "        for f in self.files:\n",
    "            file = os.path.join(tensor_dir, f)\n",
    "            data, label = torch.load(file)\n",
    "\n",
    "            # pad with zeros with tensor is not of right length\n",
    "            if (data.size(0) % self.window_size) != 0:\n",
    "                zeros = torch.zeros(abs(self.window_size - (data.size(0) % self.window_size)), data.size(1)).double()\n",
    "                data = torch.cat((data, zeros), axis=0)\n",
    "\n",
    "            idxs = [i for i in range(0, data.size(0) - self.window_size, self.stride)]\n",
    "\n",
    "            if len(idxs) == 0:\n",
    "                continue\n",
    "\n",
    "            for j in idxs:\n",
    "                data_tuple = (file, j, label)\n",
    "                self.data_tuples.append(data_tuple)\n",
    "\n",
    "        shuffle(self.data_tuples)\n",
    "\n",
    "    def __len__(self):\n",
    "        return len(self.data_tuples)\n",
    "\n",
    "    def __getitem__(self, idx):\n",
    "\n",
    "        if torch.is_tensor(idx):\n",
    "            idx = idx.tolist()\n",
    "\n",
    "        sample_tuple = self.data_tuples[idx]\n",
    "        sample, _ = torch.load(sample_tuple[0])\n",
    "        label = sample_tuple[2]\n",
    "        sample = sample[sample_tuple[1]: sample_tuple[1] + self.window_size]\n",
    "\n",
    "        if self.transform:\n",
    "            sample = self.transform(sample)\n",
    "\n",
    "        return {'sample': sample, 'label': label}"
   ]
  },
  {
   "cell_type": "code",
   "execution_count": 16,
   "metadata": {},
   "outputs": [
    {
     "data": {
      "text/plain": [
       "0     57040.0\n",
       "1     60409.0\n",
       "2     65231.0\n",
       "3     61466.0\n",
       "4     63111.0\n",
       "5     62021.0\n",
       "6     63238.0\n",
       "7     61637.0\n",
       "8     65488.0\n",
       "9     59408.0\n",
       "10    60460.0\n",
       "11    50843.0\n",
       "12    60702.0\n",
       "13    60912.0\n",
       "14    59440.0\n",
       "15    56519.0\n",
       "16    55052.0\n",
       "17    52433.0\n",
       "18    51941.0\n",
       "19    52025.0\n",
       "20    55163.0\n",
       "21    49613.0\n",
       "22    48744.0\n",
       "23    41489.0\n",
       "24    63573.0\n",
       "25    60698.0\n",
       "26    60847.0\n",
       "27    55880.0\n",
       "28    59133.0\n",
       "29    56598.0\n",
       "30    56008.0\n",
       "31    54800.0\n",
       "32    59356.0\n",
       "33    52604.0\n",
       "34    52836.0\n",
       "35    45433.0\n",
       "36    65318.0\n",
       "37    61425.0\n",
       "38    60644.0\n",
       "39    57675.0\n",
       "40    57241.0\n",
       "41       56.0\n",
       "Name: total, dtype: float64"
      ]
     },
     "execution_count": 16,
     "metadata": {},
     "output_type": "execute_result"
    }
   ],
   "source": [
    "(data.total)"
   ]
  },
  {
   "cell_type": "code",
   "execution_count": 566,
   "metadata": {},
   "outputs": [],
   "source": [
    "def spectral(t):\n",
    "    # frequency\n",
    "    freq = 1/12\n",
    "    # amplitudes\n",
    "    a, b = 0.08, 0.01\n",
    "    # constant\n",
    "    c = 10\n",
    "    π = np.pi\n",
    "    # linear combination \n",
    "    lc = sum([a * np.cos(2*π*freq*t) + b* np.sin(2*π*freq*t) for m in range(50)])\n",
    "    # y = constant + trend + lc + error \n",
    "    return c + 0.3*t + lc + np.random.randn()\n",
    "\n",
    "spectral = np.vectorize(spectral)\n",
    "base = np.arange(150)\n",
    "x = spectral(base)"
   ]
  },
  {
   "cell_type": "code",
   "execution_count": 710,
   "metadata": {},
   "outputs": [],
   "source": [
    "index = pd.period_range(start='1/1/2018', freq='m', periods=150)\n",
    "index = index.to_timestamp()\n",
    "data = pd.DataFrame(x, index = index, columns=[\"Alumn\"])"
   ]
  },
  {
   "cell_type": "code",
   "execution_count": 711,
   "metadata": {},
   "outputs": [],
   "source": [
    "alumn = data.Alumn"
   ]
  },
  {
   "cell_type": "code",
   "execution_count": 712,
   "metadata": {},
   "outputs": [],
   "source": [
    "alumn_diff = (alumn - alumn.shift(12))"
   ]
  },
  {
   "cell_type": "code",
   "execution_count": 718,
   "metadata": {},
   "outputs": [],
   "source": [
    "alumn_diff_rolling = alumn_diff.rolling(4).mean()"
   ]
  },
  {
   "cell_type": "code",
   "execution_count": 719,
   "metadata": {},
   "outputs": [],
   "source": [
    "idx_predict = alumn_diff_rolling.index + pd.DateOffset(months = 1)"
   ]
  },
  {
   "cell_type": "code",
   "execution_count": 720,
   "metadata": {},
   "outputs": [],
   "source": [
    "rolling_predict = pd.Series(alumn_diff_rolling.values, index=idx_predict)"
   ]
  },
  {
   "cell_type": "code",
   "execution_count": 723,
   "metadata": {},
   "outputs": [],
   "source": [
    "alumn_lag = pd.Series(alumn.shift(11).rolling(4).mean().values, index=idx_predict)"
   ]
  },
  {
   "cell_type": "code",
   "execution_count": 728,
   "metadata": {},
   "outputs": [
    {
     "data": {
      "image/png": "[encoded data removed]",
      "text/plain": [
       "<Figure size 640x480 with 1 Axes>"
      ]
     },
     "metadata": {},
     "output_type": "display_data"
    }
   ],
   "source": [
    "alumn_predict =  rolling_predict + alumn_lag\n",
    "alumn_predict.name = 'Alumn Predict'\n",
    "ax = alumn_predict.plot(legend=True)\n",
    "alumn.plot(legend=True, ax = ax)\n",
    "ax.grid()"
   ]
  },
  {
   "cell_type": "code",
   "execution_count": 725,
   "metadata": {},
   "outputs": [
    {
     "data": {
      "text/plain": [
       "2.1468927950205474"
      ]
     },
     "execution_count": 725,
     "metadata": {},
     "output_type": "execute_result"
    }
   ],
   "source": [
    "# Mean Absolute Error\n",
    "np.mean(np.abs((alumn_predict - alumn).dropna()))"
   ]
  },
  {
   "cell_type": "code",
   "execution_count": 726,
   "metadata": {},
   "outputs": [
    {
     "data": {
      "text/plain": [
       "2.518868142719159"
      ]
     },
     "execution_count": 726,
     "metadata": {},
     "output_type": "execute_result"
    }
   ],
   "source": [
    "# Root Mean Squared Error\n",
    "np.sqrt(np.mean(((alumn_predict - alumn).dropna())**2))"
   ]
  },
  {
   "cell_type": "markdown",
   "metadata": {},
   "source": [
    "### Deep Neural Networks for Time Series"
   ]
  },
  {
   "cell_type": "code",
   "execution_count": 2,
   "metadata": {},
   "outputs": [],
   "source": [
    "import torch"
   ]
  },
  {
   "cell_type": "code",
   "execution_count": 7,
   "metadata": {},
   "outputs": [
    {
     "name": "stdout",
     "output_type": "stream",
     "text": [
      "tensor(0)\n",
      "tensor(1)\n",
      "tensor(2)\n",
      "tensor(3)\n",
      "tensor(4)\n",
      "tensor(5)\n",
      "tensor(6)\n",
      "tensor(7)\n",
      "tensor(8)\n",
      "tensor(9)\n"
     ]
    }
   ],
   "source": [
    "for x in torch.arange(0,10):\n",
    "    print(x)"
   ]
  },
  {
   "cell_type": "code",
   "execution_count": null,
   "metadata": {},
   "outputs": [],
   "source": []
  },
  {
   "attachments": {},
   "cell_type": "markdown",
   "metadata": {},
   "source": [
    "# Advanced Neural Network "
   ]
  },
  {
   "attachments": {},
   "cell_type": "markdown",
   "metadata": {},
   "source": [
    "Neural network models for financial time series analysis  \n",
    "\n",
    "Recurrent neural networks (RNNs) are presented as *nonlinear time series models* and generalize classical linear time series models such as $\\text{AR({p})}$.\n",
    "\n",
    "Convultion neural network for `filtering` time series data and exploiting different scales in the data\n",
    "\n",
    "Autoencoders for `compress information` and generalize principal component analysis."
   ]
  },
  {
   "cell_type": "markdown",
   "metadata": {},
   "source": [
    "Others architectures exists since those can be fit to the structure so good to data, that is, some architectures are designed to be used on some type of structure of data and those have been proven to be more efficient to others architectures (those don't need to be training again on some parameters needlessly)"
   ]
  },
  {
   "attachments": {},
   "cell_type": "markdown",
   "metadata": {},
   "source": [
    "## Recurrent Neural Networks"
   ]
  },
  {
   "cell_type": "markdown",
   "metadata": {},
   "source": [
    "RNNs or Recurrent Neural Networks are a family of neural networks that are used for (specialized for) *processing sequences of data* e.g. $[x^{<1>}, x^{<2>}, ..., x^{<N}]$. This specialization allows it scale to *processing large sequences of data*."
   ]
  },
  {
   "cell_type": "markdown",
   "metadata": {},
   "source": [
    "If the data $D= \\{ x_t, y_t \\}^{N}_{t=1}$ is autocorrelated observations of $X$ and $Y$ at times $t = 1, ..., N$, then the problem can be expresed as secuential problem.\n",
    "\n",
    "Given the response $y_{t + h}$ the model can be expressed as:\n",
    "\n",
    "$$\\hat{y}_{t + h} = f(\\textbf{X}_{t}) $$\n",
    "\n",
    "Where $\\textbf{X}_{t} = \\text{Seq}_{T}(X) = (x_{t-(T-1)}, ..., x_{t})$. Here $T$ point out the length of sequence (or the *window*) of $x$, so if $T = 3$, the sequence have at max $2=T-1$ lags.\n",
    "\n",
    "If the data are not *autocorrelationated* the model to use would be Feedforward Neural Network."
   ]
  },
  {
   "cell_type": "markdown",
   "metadata": {},
   "source": [
    "There are many types of *RNN*, but the simplest is *Elman Network*. A RNN with one hidden layer, and the length of sequence of $x$ is $T$ so the max lag would  be $T-1$. "
   ]
  },
  {
   "cell_type": "markdown",
   "metadata": {},
   "source": [
    "*Hidden state*: $z_{t-j} = f^{(1)}_{W^{(1)}, b^{(1)}} (\\textbf{X}_{t, j}) := \\sigma^{(1)}{( W^{(1)}_z z_{(t-j)-1} + W^{(1)}_x x_{t-j} + b^{(1)})}$\n",
    "\n",
    "*Response*: $\\hat{y}_{t+h} = f^{(2)}_{W^{(2)}, b^{(2)}} (z_t)  =\\sigma^{(2)} {(W^{(2)}z_t + b^{(2)})}$"
   ]
  },
  {
   "cell_type": "markdown",
   "metadata": {},
   "source": [
    "Where $\\sigma^{(1)}$ is a activation function such as *tanh* and $\\sigma^{(2)}$ is a output function, this can be softmax function or any other, this depend if the response is *categorical* or *continuous*\n",
    "\n",
    "The connections between input $x_t$ and the $H$ hidden units are weighted by the time invariant matrix  $W^{(1)}_{x} \\in \\mathbb{R}^{H\\text{x}P}$ ($P$ is the dimention of $x_t$).\n",
    "\n",
    "The recurrent connections between the $H$ hidden units are weighted by the time invariant matrix $W_z^{(1)} \\in \\mathbb{R}^{H\\text{x}H}$. \n",
    "\n",
    "The sets $W^{(1)} = (W^{(1)}_{x}, W^{(1)}_{z}) $ refer to input and recurrence weights.  $W^{(2)}$ denotes the weights tied to output of the hidden layer of the last time step, $z_t$ and the output layer. If the response is a continuous vector, $Y \\in R^{M}$, then the $W^{(2)} \\in R^{M\\text{x}H}$. If the response is categorical with $K$ classes, then $W^{(2)} \\in R^{K\\text{x}H} $ "
   ]
  },
  {
   "cell_type": "markdown",
   "metadata": {},
   "source": [
    "Problems with RNN\n",
    "\n",
    "- Vanish/exploted gradient problem. Vanish if weights is close to 0 and explote if the weights is greater than 1\n"
   ]
  },
  {
   "cell_type": "code",
   "execution_count": null,
   "metadata": {},
   "outputs": [],
   "source": []
  },
  {
   "cell_type": "code",
   "execution_count": null,
   "metadata": {},
   "outputs": [],
   "source": []
  },
  {
   "cell_type": "code",
   "execution_count": null,
   "metadata": {},
   "outputs": [],
   "source": []
  },
  {
   "cell_type": "markdown",
   "metadata": {},
   "source": [
    "## Long Short-Term Memory (LSTM)"
   ]
  },
  {
   "cell_type": "markdown",
   "metadata": {},
   "source": [
    "The cell memory is updated \n",
    "\n",
    "The update of cell memory depend on *forget gate* $\\hat{\\alpha_t}$, *input gate* $\\hat{z_{t}}$ and cell gate $\\hat{c_t}$\n",
    "\n",
    "$$c_t = \\hat{\\alpha}\\: \\text{o} \\:c_{t-1} + \\hat{z}_t \\: \\text{o} \\: \\hat{c}_{t}  $$\n",
    "\n",
    "Where $\\hat{\\alpha_t}$ is refered as *forget gate*, $\\hat{z_{t}}$ as *input gate* and $\\hat{r}$ as *output gate*"
   ]
  },
  {
   "cell_type": "markdown",
   "metadata": {},
   "source": [
    "The hidden state is updated using the followig definition:\n",
    "\n",
    "$$h_t = \\hat{r_t} \\: \\text{o} \\: \\tanh{(c_t)}$$\n",
    "\n",
    "The  reset, forget, input and cell memory gates ared updated by *RNN* and all depending on the hidden state $h_t$\n",
    "\n",
    "$$ \\text{Output gate} :  \\hat{r_{t}} = \\sigma(U_r h_{t-1} + W_r x_t + b_r)$$\n",
    "$$ \\text{Forget gate} : \\hat{\\alpha_{t}} = \\sigma(U_{\\alpha} h_{t-1} + W_{\\alpha} x_t + b_{\\alpha})$$\n",
    "$$ \\text{Input gate} : \\hat{z_{t}} = \\sigma(U_{z} h_{t-1} + W_z x_t + b_z)$$\n",
    "$$ \\text{Cell memory gate} : \\hat{c_{t}} = \\sigma(U_{c} h_{t-1} + W_c x_t + b_c)$$"
   ]
  },
  {
   "cell_type": "code",
   "execution_count": 1,
   "metadata": {},
   "outputs": [],
   "source": [
    "import numpy as np\n",
    "import torch\n",
    "import pandas as pd"
   ]
  },
  {
   "cell_type": "code",
   "execution_count": 21,
   "metadata": {},
   "outputs": [],
   "source": [
    "np.random.seed(2)\n",
    "\n",
    "T = 20\n",
    "L = 1000\n",
    "N = 100\n",
    "\n",
    "x = np.empty((N, L), 'int64')\n",
    "\n",
    "# [0, 1, ..., 1000]x[[0.2], ..., [-0.83]]\n",
    "x[:] = np.array(range(L)) + np.random.randint(-4 * T, 4 * T, N).reshape(N, 1)\n",
    "\n",
    "data = np.sin(x / 1.0 / T).astype('float64')\n",
    "# torch.save(data, open('traindata.pt', 'wb'))"
   ]
  },
  {
   "cell_type": "code",
   "execution_count": 1,
   "metadata": {},
   "outputs": [],
   "source": [
    "import torch.nn as nn\n",
    "import torch.optim as optim\n",
    "import numpy as np\n",
    "import matplotlib.pyplot as plt\n",
    "import torchviz"
   ]
  },
  {
   "cell_type": "code",
   "execution_count": 1,
   "metadata": {},
   "outputs": [],
   "source": [
    "class Sequence(nn.Module):\n",
    "    def __init__(self):\n",
    "        super(Sequence, self).__init__()\n",
    "        self.lstm1 = nn.LSTMCell(1, 51)\n",
    "        self.lstm2 = nn.LSTMCell(51, 51)\n",
    "        self.linear = nn.Linear(51, 1)\n",
    "\n",
    "    def forward(self, input, future = 0):\n",
    "        outputs = []\n",
    "        h_t = torch.zeros(input.size(0), 51, dtype=torch.double)\n",
    "        c_t = torch.zeros(input.size(0), 51, dtype=torch.double)\n",
    "        h_t2 = torch.zeros(input.size(0), 51, dtype=torch.double)\n",
    "        c_t2 = torch.zeros(input.size(0), 51, dtype=torch.double)\n",
    "\n",
    "        for input_t in input.split(1, dim=1):\n",
    "            h_t, c_t = self.lstm1(input_t, (h_t, c_t))\n",
    "            h_t2, c_t2 = self.lstm2(h_t, (h_t2, c_t2))\n",
    "            output = self.linear(h_t2)\n",
    "            outputs += [output]\n",
    "            \n",
    "        for i in range(future):# if we should predict the future\n",
    "            h_t, c_t = self.lstm1(output, (h_t, c_t))\n",
    "            h_t2, c_t2 = self.lstm2(h_t, (h_t2, c_t2))\n",
    "            output = self.linear(h_t2)\n",
    "            outputs += [output]\n",
    "        outputs = torch.cat(outputs, dim=1)\n",
    "        return outputs"
   ]
  },
  {
   "cell_type": "code",
   "execution_count": null,
   "metadata": {},
   "outputs": [],
   "source": []
  },
  {
   "cell_type": "code",
   "execution_count": 17,
   "metadata": {},
   "outputs": [],
   "source": [
    "# set random seed to 0\n",
    "opt_steps = 10\n",
    "np.random.seed(0)\n",
    "torch.manual_seed(0)\n",
    "# load data and make training set\n",
    "data = torch.load('traindata.pt')\n",
    "input = torch.from_numpy(data[3:, :-1])\n",
    "target = torch.from_numpy(data[3:, 1:])\n",
    "test_input = torch.from_numpy(data[:3, :-1])\n",
    "test_target = torch.from_numpy(data[:3, 1:])"
   ]
  },
  {
   "cell_type": "code",
   "execution_count": 24,
   "metadata": {},
   "outputs": [
    {
     "data": {
      "text/plain": [
       "torch.Size([97, 999])"
      ]
     },
     "execution_count": 24,
     "metadata": {},
     "output_type": "execute_result"
    }
   ],
   "source": [
    "input.shape"
   ]
  },
  {
   "cell_type": "code",
   "execution_count": null,
   "metadata": {},
   "outputs": [],
   "source": [
    "# build the model\n",
    "seq = Sequence()\n",
    "seq.double()\n",
    "criterion = nn.MSELoss()\n",
    "# use LBFGS as optimizer since we can load the whole data to train\n",
    "optimizer = optim.LBFGS(seq.parameters(), lr=0.8)\n",
    "#begin to train\n",
    "for i in range(opt_steps):\n",
    "    print('STEP: ', i)\n",
    "    def closure():\n",
    "        optimizer.zero_grad()\n",
    "        out = seq(input)\n",
    "        loss = criterion(out, target)\n",
    "        print('loss:', loss.item())\n",
    "        loss.backward()\n",
    "        return loss\n",
    "    optimizer.step(closure)\n",
    "    # begin to predict, no need to track gradient here\n",
    "    with torch.no_grad():\n",
    "        future = 1000\n",
    "        pred = seq(test_input, future=future)\n",
    "        loss = criterion(pred[:, :-future], test_target)\n",
    "        print('test loss:', loss.item())\n",
    "        y = pred.detach().numpy()\n",
    "    # draw the result\n",
    "    plt.figure(figsize=(30,10))\n",
    "    plt.title('Predict future values for time sequences\\n(Dashlines are predicted values)', fontsize=30)\n",
    "    plt.xlabel('x', fontsize=20)\n",
    "    plt.ylabel('y', fontsize=20)\n",
    "    plt.xticks(fontsize=20)\n",
    "    plt.yticks(fontsize=20)\n",
    "    def draw(yi, color):\n",
    "        plt.plot(np.arange(input.size(1)), yi[:input.size(1)], color, linewidth = 2.0)\n",
    "        plt.plot(np.arange(input.size(1), input.size(1) + future), yi[input.size(1):], color + ':', linewidth = 2.0)\n",
    "    draw(y[0], 'r')\n",
    "    draw(y[1], 'g')\n",
    "    draw(y[2], 'b')\n",
    "    plt.savefig('predict%d.pdf'%i)\n",
    "    plt.close()"
   ]
  },
  {
   "cell_type": "code",
   "execution_count": null,
   "metadata": {},
   "outputs": [],
   "source": [
    "import torch\n",
    "import torch.nn as nn\n",
    "from torch.utils.data import TensorDataset, DataLoader\n",
    "\n",
    "# Hyperparameters\n",
    "learning_rate = 0.001\n",
    "epochs = 100\n",
    "sequence_length = 50  # Number of past time steps to consider for prediction\n",
    "\n",
    "# Sample data (replace with your actual data)\n",
    "data = torch.arange(100).float()\n",
    "\n",
    "# Create sequences for training\n",
    "def create_sequences(data, seq_length):\n",
    "  sequences = []\n",
    "  for i in range(len(data) - seq_length):\n",
    "    sequence = data[i:i+seq_length]\n",
    "    sequences.append(sequence)\n",
    "  return torch.stack(sequences)\n",
    "\n",
    "train_sequences = create_sequences(data[:-1], sequence_length)\n",
    "target_values = data[sequence_length:]\n",
    "\n",
    "# Define the LSTM model\n",
    "class LSTMModel(nn.Module):\n",
    "  def __init__(self, input_size, hidden_size, num_layers):\n",
    "    super(LSTMModel, self).__init__()\n",
    "    self.lstm = nn.LSTM(input_size, hidden_size, num_layers)\n",
    "    self.linear = nn.Linear(hidden_size, 1)\n",
    "\n",
    "  def forward(self, x):\n",
    "    x, _ = self.lstm(x)  # Discard hidden and cell states for simplicity\n",
    "    out = self.linear(x[:, -1, :])  # Use only the last output of the sequence\n",
    "    return out\n",
    "\n",
    "# Create model, optimizer, and loss function\n",
    "model = LSTMModel(1, 64, 1)  # Input size, hidden size, number of layers\n",
    "optimizer = torch.optim.Adam(\n",
    "    model.parameters(), lr=learning_rate)\n",
    "criterion = nn.MSELoss()\n",
    "\n",
    "# Create datasets and dataloaders\n",
    "train_dataset = TensorDataset(train_sequences, target_values)\n",
    "train_loader = DataLoader(train_dataset, batch_size=32, shuffle=True)\n",
    "\n",
    "# Training loop\n",
    "for epoch in range(epochs):\n",
    "  for i, (sequences, labels) in enumerate(train_loader):\n",
    "    # Forward pass\n",
    "    outputs = model(sequences)\n",
    "    loss = criterion(outputs, labels)\n",
    "\n",
    "    # Backward pass and optimize\n",
    "    optimizer.zero_grad()\n",
    "    loss.backward()\n",
    "    optimizer.step()\n",
    "\n",
    "    if (i+1) % 100 == 0:\n",
    "      print(f'Epoch [{epoch+1}/{epochs}], Step [{i+1}/{len(train_loader)}], Loss: {loss.item():.4f}')\n",
    "\n",
    "# Prediction function (modify based on your needs)\n",
    "def predict(model, data, sequence_length):\n",
    "  with torch.no_grad():\n",
    "    last_sequence = data[-sequence_length:]\n",
    "    prediction = model(last_sequence.unsqueeze(0))\n",
    "  return prediction.item()\n",
    "\n",
    "# Example prediction\n",
    "predicted_value = predict(model, data, sequence_length)\n",
    "print(f'Predicted value for next time step: {predicted_value}')\n"
   ]
  }
 ],
 "metadata": {
  "kernelspec": {
   "display_name": "Python 3 (ipykernel)",
   "language": "python",
   "name": "python3"
  },
  "language_info": {
   "codemirror_mode": {
    "name": "ipython",
    "version": 3
   },
   "file_extension": ".py",
   "mimetype": "text/x-python",
   "name": "python",
   "nbconvert_exporter": "python",
   "pygments_lexer": "ipython3",
   "version": "3.11.7"
  },
  "vscode": {
   "interpreter": {
    "hash": "7679c2132d3f6ce38c9df14d554b39c06862b36a4e6689c81f9ae15bd0911d7d"
   }
  }
 },
 "nbformat": 4,
 "nbformat_minor": 4
}
